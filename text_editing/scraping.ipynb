{
 "cells": [
  {
   "cell_type": "code",
   "execution_count": 387,
   "metadata": {},
   "outputs": [],
   "source": [
    "import requests\n",
    "from bs4 import BeautifulSoup\n",
    "import json\n",
    "import pandas as pd\n",
    "from pathlib import Path\n",
    "import re\n",
    "from unidecode import unidecode\n",
    "import string\n",
    "import random\n",
    "import csv"
   ]
  },
  {
   "cell_type": "code",
   "execution_count": 388,
   "metadata": {},
   "outputs": [],
   "source": [
    "def find_text(doc):\n",
    "    #find all the \"content\" tags\n",
    "    contents = doc.find_all('span', class_ =\"content\")\n",
    "    texts = []\n",
    "    for idx, line in enumerate(contents):\n",
    "        line_text = line.get_text()\n",
    "        #some of them are empty, remove\n",
    "        if len(line_text) >1:\n",
    "            texts.append(line_text)\n",
    "    return texts"
   ]
  },
  {
   "cell_type": "code",
   "execution_count": 389,
   "metadata": {},
   "outputs": [],
   "source": [
    "def crawl(starting_link, lines_dict, chapters_dict, skip = False):\n",
    "    \n",
    "    #checking if we're in a book we're supposed to read\n",
    "    #stopping otherwise\n",
    "    tag = starting_link.split(\"/\")[-1]\n",
    "    print(tag)\n",
    "    chapter_abrv = tag.split(\".\")[0]\n",
    "    if chapter_abrv in (\"PSA\", \"WIS\"):\n",
    "        print(\"past revelations\")\n",
    "        return lines_dict, chapters_dict\n",
    "\n",
    "    #reading the document\n",
    "    result = requests.get(starting_link)\n",
    "    doc = BeautifulSoup(result.text, \"html.parser\")\n",
    "\n",
    "    #checking if we are in a chapter we're supposed to read\n",
    "    #skipping text, just grabbing link, otherwise\n",
    "    chapter_num = tag.split(\".\")[1]\n",
    "    if \"INTRO\" not in chapter_num:\n",
    "        #reading the text of the document\n",
    "        lines = find_text(doc)\n",
    "        print(len(lines))\n",
    "        #book,chapter,version are all at the end of the web address\n",
    "\n",
    "        lines_dict[tag] = lines\n",
    "        #combining all the lines of a chapter into a single bit of text\n",
    "        chapter = \" \".join(lines)\n",
    "        chapters_dict[tag] = chapter\n",
    "    else:\n",
    "        print(\"introduction, skipping text\")\n",
    "\n",
    "    #finding the link to the subsequent chapter\n",
    "    #contained in the next arrow\n",
    "    arrow = doc.find(\"div\", class_ = \"next-arrow\")\n",
    "    #checks to see if arrow is there, if it has link, if not, stop\n",
    "    if not arrow:\n",
    "        print(\"no arrow\")\n",
    "        return lines_dict, chapters_dict\n",
    "    elif not arrow.find(\"a\"):\n",
    "        print(\"empty arrow\")\n",
    "        return lines_dict, chapters_dict\n",
    "    elif not arrow.find(\"a\").has_attr(\"href\"):\n",
    "        print(\"no link\")\n",
    "        return lines_dict, chapters_dict\n",
    "    #found the next arrow, has a link to subsequent chapter\n",
    "    else:\n",
    "        #finding the web address in the arrow, only has the end of the web address\n",
    "        link_end = arrow.find(\"a\").get(\"href\")\n",
    "        #creating the link\n",
    "        new_link = \"https://my.bible.com\" + link_end\n",
    "        print(new_link)\n",
    "        #pass all checks, recurse!!!\n",
    "        lines_dict, chapters_dict = crawl(new_link, lines_dict, chapters_dict)\n",
    "\n",
    "    return lines_dict, chapters_dict"
   ]
  },
  {
   "cell_type": "code",
   "execution_count": 441,
   "metadata": {},
   "outputs": [
    {
     "name": "stdout",
     "output_type": "stream",
     "text": [
      "MAT.1.USNT\n",
      "28\n",
      "https://my.bible.com/bible/885/MAT.2.USNT\n",
      "MAT.2.USNT\n",
      "23\n",
      "https://my.bible.com/bible/885/MAT.3.USNT\n",
      "MAT.3.USNT\n",
      "17\n",
      "https://my.bible.com/bible/885/MAT.4.USNT\n",
      "MAT.4.USNT\n",
      "30\n",
      "https://my.bible.com/bible/885/MAT.5.USNT\n",
      "MAT.5.USNT\n",
      "48\n",
      "https://my.bible.com/bible/885/MAT.6.USNT\n",
      "MAT.6.USNT\n",
      "43\n",
      "https://my.bible.com/bible/885/MAT.7.USNT\n",
      "MAT.7.USNT\n",
      "29\n",
      "https://my.bible.com/bible/885/MAT.8.USNT\n",
      "MAT.8.USNT\n",
      "34\n",
      "https://my.bible.com/bible/885/MAT.9.USNT\n",
      "MAT.9.USNT\n",
      "38\n",
      "https://my.bible.com/bible/885/MAT.10.USNT\n",
      "MAT.10.USNT\n",
      "43\n",
      "https://my.bible.com/bible/885/MAT.11.USNT\n",
      "MAT.11.USNT\n",
      "35\n",
      "https://my.bible.com/bible/885/MAT.12.USNT\n",
      "MAT.12.USNT\n",
      "56\n",
      "https://my.bible.com/bible/885/MAT.13.USNT\n",
      "MAT.13.USNT\n",
      "66\n",
      "https://my.bible.com/bible/885/MAT.14.USNT\n",
      "MAT.14.USNT\n",
      "36\n",
      "https://my.bible.com/bible/885/MAT.15.USNT\n",
      "MAT.15.USNT\n",
      "41\n",
      "https://my.bible.com/bible/885/MAT.16.USNT\n",
      "MAT.16.USNT\n",
      "29\n",
      "https://my.bible.com/bible/885/MAT.17.USNT\n",
      "MAT.17.USNT\n",
      "26\n",
      "https://my.bible.com/bible/885/MAT.18.USNT\n",
      "MAT.18.USNT\n",
      "37\n",
      "https://my.bible.com/bible/885/MAT.19.USNT\n",
      "MAT.19.USNT\n",
      "30\n",
      "https://my.bible.com/bible/885/MAT.20.USNT\n",
      "MAT.20.USNT\n",
      "35\n",
      "https://my.bible.com/bible/885/MAT.21.USNT\n",
      "MAT.21.USNT\n",
      "55\n",
      "https://my.bible.com/bible/885/MAT.22.USNT\n",
      "MAT.22.USNT\n",
      "50\n",
      "https://my.bible.com/bible/885/MAT.23.USNT\n",
      "MAT.23.USNT\n",
      "40\n",
      "https://my.bible.com/bible/885/MAT.24.USNT\n",
      "MAT.24.USNT\n",
      "57\n",
      "https://my.bible.com/bible/885/MAT.25.USNT\n",
      "MAT.25.USNT\n",
      "47\n",
      "https://my.bible.com/bible/885/MAT.26.USNT\n",
      "MAT.26.USNT\n",
      "76\n",
      "https://my.bible.com/bible/885/MAT.27.USNT\n",
      "MAT.27.USNT\n",
      "71\n",
      "https://my.bible.com/bible/885/MAT.28.USNT\n",
      "MAT.28.USNT\n",
      "21\n",
      "https://my.bible.com/bible/885/MRK.1.USNT\n",
      "MRK.1.USNT\n",
      "45\n",
      "https://my.bible.com/bible/885/MRK.2.USNT\n",
      "MRK.2.USNT\n",
      "28\n",
      "https://my.bible.com/bible/885/MRK.3.USNT\n",
      "MRK.3.USNT\n",
      "40\n",
      "https://my.bible.com/bible/885/MRK.4.USNT\n",
      "MRK.4.USNT\n",
      "40\n",
      "https://my.bible.com/bible/885/MRK.5.USNT\n",
      "MRK.5.USNT\n",
      "44\n",
      "https://my.bible.com/bible/885/MRK.6.USNT\n",
      "MRK.6.USNT\n",
      "59\n",
      "https://my.bible.com/bible/885/MRK.7.USNT\n",
      "MRK.7.USNT\n",
      "41\n",
      "https://my.bible.com/bible/885/MRK.8.USNT\n",
      "MRK.8.USNT\n",
      "38\n",
      "https://my.bible.com/bible/885/MRK.9.USNT\n",
      "MRK.9.USNT\n",
      "52\n",
      "https://my.bible.com/bible/885/MRK.10.USNT\n",
      "MRK.10.USNT\n",
      "52\n",
      "https://my.bible.com/bible/885/MRK.11.USNT\n",
      "MRK.11.USNT\n",
      "31\n",
      "https://my.bible.com/bible/885/MRK.12.USNT\n",
      "MRK.12.USNT\n",
      "53\n",
      "https://my.bible.com/bible/885/MRK.13.USNT\n",
      "MRK.13.USNT\n",
      "39\n",
      "https://my.bible.com/bible/885/MRK.14.USNT\n",
      "MRK.14.USNT\n",
      "72\n",
      "https://my.bible.com/bible/885/MRK.15.USNT\n",
      "MRK.15.USNT\n",
      "50\n",
      "https://my.bible.com/bible/885/MRK.16.USNT\n",
      "MRK.16.USNT\n",
      "20\n",
      "https://my.bible.com/bible/885/LUK.1.USNT\n",
      "LUK.1.USNT\n",
      "90\n",
      "https://my.bible.com/bible/885/LUK.2.USNT\n",
      "LUK.2.USNT\n",
      "53\n",
      "https://my.bible.com/bible/885/LUK.3.USNT\n",
      "LUK.3.USNT\n",
      "104\n",
      "https://my.bible.com/bible/885/LUK.4.USNT\n",
      "LUK.4.USNT\n",
      "45\n",
      "https://my.bible.com/bible/885/LUK.5.USNT\n",
      "LUK.5.USNT\n",
      "40\n",
      "https://my.bible.com/bible/885/LUK.6.USNT\n",
      "LUK.6.USNT\n",
      "49\n",
      "https://my.bible.com/bible/885/LUK.7.USNT\n",
      "LUK.7.USNT\n",
      "51\n",
      "https://my.bible.com/bible/885/LUK.8.USNT\n",
      "LUK.8.USNT\n",
      "60\n",
      "https://my.bible.com/bible/885/LUK.9.USNT\n",
      "LUK.9.USNT\n",
      "63\n",
      "https://my.bible.com/bible/885/LUK.10.USNT\n",
      "LUK.10.USNT\n",
      "43\n",
      "https://my.bible.com/bible/885/LUK.11.USNT\n",
      "LUK.11.USNT\n",
      "60\n",
      "https://my.bible.com/bible/885/LUK.12.USNT\n",
      "LUK.12.USNT\n",
      "57\n",
      "https://my.bible.com/bible/885/LUK.13.USNT\n",
      "LUK.13.USNT\n",
      "35\n",
      "https://my.bible.com/bible/885/LUK.14.USNT\n",
      "LUK.14.USNT\n",
      "35\n",
      "https://my.bible.com/bible/885/LUK.15.USNT\n",
      "LUK.15.USNT\n",
      "33\n",
      "https://my.bible.com/bible/885/LUK.16.USNT\n",
      "LUK.16.USNT\n",
      "30\n",
      "https://my.bible.com/bible/885/LUK.17.USNT\n",
      "LUK.17.USNT\n",
      "34\n",
      "https://my.bible.com/bible/885/LUK.18.USNT\n",
      "LUK.18.USNT\n",
      "40\n",
      "https://my.bible.com/bible/885/LUK.19.USNT\n",
      "LUK.19.USNT\n",
      "49\n",
      "https://my.bible.com/bible/885/LUK.20.USNT\n",
      "LUK.20.USNT\n",
      "52\n",
      "https://my.bible.com/bible/885/LUK.21.USNT\n",
      "LUK.21.USNT\n",
      "39\n",
      "https://my.bible.com/bible/885/LUK.22.USNT\n",
      "LUK.22.USNT\n",
      "71\n",
      "https://my.bible.com/bible/885/LUK.23.USNT\n",
      "LUK.23.USNT\n",
      "58\n",
      "https://my.bible.com/bible/885/LUK.24.USNT\n",
      "LUK.24.USNT\n",
      "52\n",
      "https://my.bible.com/bible/885/JHN.1.USNT\n",
      "JHN.1.USNT\n",
      "52\n",
      "https://my.bible.com/bible/885/JHN.2.USNT\n",
      "JHN.2.USNT\n",
      "25\n",
      "https://my.bible.com/bible/885/JHN.3.USNT\n",
      "JHN.3.USNT\n",
      "36\n",
      "https://my.bible.com/bible/885/JHN.4.USNT\n",
      "JHN.4.USNT\n",
      "54\n",
      "https://my.bible.com/bible/885/JHN.5.USNT\n",
      "JHN.5.USNT\n",
      "47\n",
      "https://my.bible.com/bible/885/JHN.6.USNT\n",
      "JHN.6.USNT\n",
      "71\n",
      "https://my.bible.com/bible/885/JHN.7.USNT\n",
      "JHN.7.USNT\n",
      "55\n",
      "https://my.bible.com/bible/885/JHN.8.USNT\n",
      "JHN.8.USNT\n",
      "59\n",
      "https://my.bible.com/bible/885/JHN.9.USNT\n",
      "JHN.9.USNT\n",
      "41\n",
      "https://my.bible.com/bible/885/JHN.10.USNT\n",
      "JHN.10.USNT\n",
      "39\n",
      "https://my.bible.com/bible/885/JHN.11.USNT\n",
      "JHN.11.USNT\n",
      "58\n",
      "https://my.bible.com/bible/885/JHN.12.USNT\n",
      "JHN.12.USNT\n",
      "60\n",
      "https://my.bible.com/bible/885/JHN.13.USNT\n",
      "JHN.13.USNT\n",
      "38\n",
      "https://my.bible.com/bible/885/JHN.14.USNT\n",
      "JHN.14.USNT\n",
      "31\n",
      "https://my.bible.com/bible/885/JHN.15.USNT\n",
      "JHN.15.USNT\n",
      "27\n",
      "https://my.bible.com/bible/885/JHN.16.USNT\n",
      "JHN.16.USNT\n",
      "33\n",
      "https://my.bible.com/bible/885/JHN.17.USNT\n",
      "JHN.17.USNT\n",
      "26\n",
      "https://my.bible.com/bible/885/JHN.18.USNT\n",
      "JHN.18.USNT\n",
      "41\n",
      "https://my.bible.com/bible/885/JHN.19.USNT\n",
      "JHN.19.USNT\n",
      "46\n",
      "https://my.bible.com/bible/885/JHN.20.USNT\n",
      "JHN.20.USNT\n",
      "31\n",
      "https://my.bible.com/bible/885/JHN.21.USNT\n",
      "JHN.21.USNT\n",
      "26\n",
      "empty arrow\n"
     ]
    }
   ],
   "source": [
    "starting_link = \"https://my.bible.com/bible/615/GEN.1.SIPB\"\n",
    "lines_dict = {}\n",
    "chapters_dict = {}\n",
    "lines_dict, chapters_dict = crawl(starting_link, lines_dict, chapters_dict)"
   ]
  },
  {
   "cell_type": "code",
   "execution_count": 442,
   "metadata": {},
   "outputs": [
    {
     "name": "stdout",
     "output_type": "stream",
     "text": [
      "89\n",
      "89\n"
     ]
    }
   ],
   "source": [
    "print(len(chapters_dict))\n",
    "print(len(lines_dict))"
   ]
  },
  {
   "attachments": {},
   "cell_type": "markdown",
   "metadata": {},
   "source": [
    "Saving lines as a json, whole text as a txt"
   ]
  },
  {
   "cell_type": "code",
   "execution_count": 443,
   "metadata": {},
   "outputs": [
    {
     "name": "stdout",
     "output_type": "stream",
     "text": [
      "USNT\n"
     ]
    }
   ],
   "source": [
    "version = starting_link.split(\".\")[-1]\n",
    "json_lines_title = \"scraping_outputs/\" + version + \"_lines_raw.json\"\n",
    "single_text_title = \"scraping_outputs/\" + version + \"_whole_raw.txt\"\n",
    "print(version)"
   ]
  },
  {
   "cell_type": "code",
   "execution_count": 456,
   "metadata": {},
   "outputs": [],
   "source": [
    "with open(json_lines_title, 'w') as fp:\n",
    "    json.dump(lines_dict, fp)"
   ]
  },
  {
   "attachments": {},
   "cell_type": "markdown",
   "metadata": {},
   "source": [
    "merging the chapters into a single text"
   ]
  },
  {
   "cell_type": "code",
   "execution_count": 457,
   "metadata": {},
   "outputs": [],
   "source": [
    "single_text = \"\"\n",
    "for title, chapter in chapters_dict.items():\n",
    "    #print(title)\n",
    "    single_text += \" \" + chapter\n",
    "single_text = single_text.strip()"
   ]
  },
  {
   "cell_type": "code",
   "execution_count": 458,
   "metadata": {},
   "outputs": [],
   "source": [
    "with open(single_text_title, \"w\") as text_file:\n",
    "    text_file.write(single_text)"
   ]
  },
  {
   "attachments": {},
   "cell_type": "markdown",
   "metadata": {},
   "source": [
    "Creating and saving cleaned versions"
   ]
  },
  {
   "cell_type": "code",
   "execution_count": 459,
   "metadata": {},
   "outputs": [
    {
     "name": "stdout",
     "output_type": "stream",
     "text": [
      "clean_outputs/USNT/USNT_lines_clean.csv\n",
      "clean_outputs/USNT/USNT_chapters_clean.csv\n",
      "clean_outputs/USNT/USNT_sentences_clean.csv\n",
      "clean_outputs/USNT/USNT_whole_clean.txt\n"
     ]
    }
   ],
   "source": [
    "csv_lines_clean_title = \"clean_outputs/\" + version + \"/\" + version + \"_lines_clean.csv\"\n",
    "print(csv_lines_clean_title)\n",
    "csv_chapters_clean_title = \"clean_outputs/\" + version + \"/\" + version + \"_chapters_clean.csv\"\n",
    "print(csv_chapters_clean_title)\n",
    "csv_sentences_clean_title = \"clean_outputs/\" + version + \"/\" + version + \"_sentences_clean.csv\"\n",
    "print(csv_sentences_clean_title)\n",
    "single_text_clean_title = \"clean_outputs/\" + version + \"/\" + version + \"_whole_clean.txt\"\n",
    "print(single_text_clean_title)"
   ]
  },
  {
   "cell_type": "code",
   "execution_count": 418,
   "metadata": {},
   "outputs": [],
   "source": [
    "def clean_text(text):\n",
    "    #cleans a text whole, doesn't split\n",
    "\n",
    "    #removes non unicode charecters\n",
    "    text = unidecode(text)\n",
    "    #removing punctuation\n",
    "    text = text.translate(str.maketrans('', '', string.punctuation))\n",
    "    #removing double spaces, ect.\n",
    "    text = re.sub(' +', ' ', text)\n",
    "    #lower case\n",
    "    text = text.lower().strip()\n",
    "\n",
    "    return text"
   ]
  },
  {
   "cell_type": "code",
   "execution_count": 460,
   "metadata": {},
   "outputs": [],
   "source": [
    "clean_chapters_dict = {}\n",
    "for title, chapter in chapters_dict.items():\n",
    "    clean_chapter = clean_text(chapter)\n",
    "    clean_chapters_dict[title] = clean_chapter"
   ]
  },
  {
   "attachments": {},
   "cell_type": "markdown",
   "metadata": {},
   "source": [
    "Creating cleaned chapters csv"
   ]
  },
  {
   "cell_type": "code",
   "execution_count": 461,
   "metadata": {},
   "outputs": [],
   "source": [
    "chapter_clean_df = pd.DataFrame.from_dict(clean_chapters_dict, orient = \"index\", columns=[\"text\"])\n",
    "chapter_clean_df = chapter_clean_df.rename_axis('chapt_code').reset_index()\n",
    "new = chapter_clean_df['chapt_code'].str.split(\".\", expand = True)\n",
    "chapter_clean_df['book'] = new[0]\n",
    "chapter_clean_df['chapt'] = new[1]\n",
    "chapter_clean_df['version'] = new[2]\n",
    "chapter_clean_df.to_csv(csv_chapters_clean_title)"
   ]
  },
  {
   "attachments": {},
   "cell_type": "markdown",
   "metadata": {},
   "source": [
    "Whole cleaned text csv"
   ]
  },
  {
   "cell_type": "code",
   "execution_count": 462,
   "metadata": {},
   "outputs": [],
   "source": [
    "cleaned_single_text = clean_text(single_text)\n",
    "with open(single_text_clean_title, \"w\") as text_file:\n",
    "    text_file.write(cleaned_single_text)"
   ]
  },
  {
   "attachments": {},
   "cell_type": "markdown",
   "metadata": {},
   "source": [
    "Cleaned lines csv"
   ]
  },
  {
   "cell_type": "code",
   "execution_count": 463,
   "metadata": {},
   "outputs": [],
   "source": [
    "cleaned_lines = []\n",
    "for chapter, lines in lines_dict.items():\n",
    "    #print(chapter)\n",
    "    book, chapt, version = chapter.split(\".\")\n",
    "    for line in lines:\n",
    "        cleaned_line = clean_text(line)\n",
    "        cleaned_lines.append((book, chapt, version, cleaned_line))"
   ]
  },
  {
   "cell_type": "code",
   "execution_count": 464,
   "metadata": {},
   "outputs": [],
   "source": [
    "cleaned_lines_df = pd.DataFrame(cleaned_lines, columns=['book', 'chapt', 'version', 'text'])\n",
    "cleaned_lines_df.to_csv(csv_lines_clean_title)"
   ]
  },
  {
   "attachments": {},
   "cell_type": "markdown",
   "metadata": {},
   "source": [
    "Individual cleaned sentences"
   ]
  },
  {
   "cell_type": "code",
   "execution_count": 380,
   "metadata": {},
   "outputs": [],
   "source": [
    "def to_clean_sentences(text):\n",
    "    #splits block text into sentences\n",
    "\n",
    "    #removes non unicode charecters, quotation marks\n",
    "    text = text.replace(\"’\", \"\").replace(\"‘\", \"\").replace('”', \"\").replace('“', \"\").replace(\"'\", \"\").replace('\"', \"\")\n",
    "    text = unidecode(text)\n",
    "\n",
    "    #splitting based on period, ! or ?\n",
    "    sentences = re.split(r'(?<!\\w\\.\\w.)(?<![A-Z][a-z]\\.)(?<=\\.|\\?)\\s', text)\n",
    "    #r'(?<=[.!?])\\s+'\n",
    "    #from https://stackoverflow.com/questions/25735644/python-regex-for-splitting-text-into-sentences-sentence-tokenizing\n",
    "\n",
    "    for idx, s in enumerate(sentences):\n",
    "        #removing punctuation\n",
    "        s = s.strip()\n",
    "        s = s.translate(str.maketrans('', '', string.punctuation))\n",
    "        #removing double spaces, ect.\n",
    "        s = re.sub(' +', ' ', s)\n",
    "        sentences[idx] = s.lower()\n",
    "\n",
    "    return sentences"
   ]
  },
  {
   "cell_type": "code",
   "execution_count": 465,
   "metadata": {},
   "outputs": [],
   "source": [
    "cleaned_sentences = []\n",
    "for chapter, text in chapters_dict.items():\n",
    "    #print(chapter)\n",
    "    book, chapt, version = chapter.split(\".\")\n",
    "    sentences = to_clean_sentences(text)\n",
    "    for s in sentences:\n",
    "        cleaned_sentences.append((book, chapt, version, s))"
   ]
  },
  {
   "cell_type": "code",
   "execution_count": 466,
   "metadata": {},
   "outputs": [],
   "source": [
    "cleaned_sentences_df = pd.DataFrame(cleaned_sentences, columns=['book', 'chapt', 'version', 'text'])\n",
    "cleaned_sentences_df.to_csv(csv_sentences_clean_title)"
   ]
  },
  {
   "attachments": {},
   "cell_type": "markdown",
   "metadata": {},
   "source": [
    "Creating NSP data based on sentences and lines"
   ]
  }
 ],
 "metadata": {
  "kernelspec": {
   "display_name": "base",
   "language": "python",
   "name": "python3"
  },
  "language_info": {
   "codemirror_mode": {
    "name": "ipython",
    "version": 3
   },
   "file_extension": ".py",
   "mimetype": "text/x-python",
   "name": "python",
   "nbconvert_exporter": "python",
   "pygments_lexer": "ipython3",
   "version": "3.9.13"
  },
  "orig_nbformat": 4
 },
 "nbformat": 4,
 "nbformat_minor": 2
}
